{
 "cells": [
  {
   "cell_type": "code",
   "execution_count": 1,
   "metadata": {},
   "outputs": [
    {
     "name": "stdout",
     "output_type": "stream",
     "text": [
      "0         0.089256\n",
      "1         0.088928\n",
      "2         0.088599\n",
      "3         0.089913\n",
      "4         0.089585\n",
      "5         0.089256\n",
      "6         0.089585\n",
      "7         0.089913\n",
      "8         0.089256\n",
      "9         0.090242\n",
      "10        0.090899\n",
      "11        0.091228\n",
      "12        0.090570\n",
      "13        0.090899\n",
      "14        0.091228\n",
      "15        0.091556\n",
      "16        0.091556\n",
      "17        0.092213\n",
      "18        0.091556\n",
      "19        0.091228\n",
      "20        0.091556\n",
      "21        0.092213\n",
      "22        0.091556\n",
      "23        0.091885\n",
      "24        0.091885\n",
      "25        0.091885\n",
      "26        0.092542\n",
      "27        0.090899\n",
      "28        0.090899\n",
      "29        0.091228\n",
      "            ...   \n",
      "299970    0.084985\n",
      "299971    0.084985\n",
      "299972    0.084328\n",
      "299973    0.084657\n",
      "299974    0.084000\n",
      "299975    0.084000\n",
      "299976    0.084000\n",
      "299977    0.083342\n",
      "299978    0.083342\n",
      "299979    0.082357\n",
      "299980    0.082685\n",
      "299981    0.083014\n",
      "299982    0.081700\n",
      "299983    0.080714\n",
      "299984    0.081043\n",
      "299985    0.081700\n",
      "299986    0.080386\n",
      "299987    0.080386\n",
      "299988    0.079400\n",
      "299989    0.080386\n",
      "299990    0.079400\n",
      "299991    0.079729\n",
      "299992    0.079072\n",
      "299993    0.079072\n",
      "299994    0.079400\n",
      "299995    0.078086\n",
      "299996    0.078743\n",
      "299997    0.079400\n",
      "299998    0.078086\n",
      "299999    0.078086\n",
      "Name: x_strain, Length: 300000, dtype: float64\n"
     ]
    }
   ],
   "source": [
    "import numpy as np\n",
    "import pandas as pd\n",
    "import matplotlib.pyplot as plt\n",
    "\n",
    "# data tables have the following format:\n",
    "# first column [0] is stage x strain gauge voltage\n",
    "# second column [1] is stage y strain gauge voltage\n",
    "# third column [2] is QPD x voltage\n",
    "# fourth column [3] is QPD y voltage\n",
    "\n",
    "# calibration\n",
    "data = pd.read_table('C:/Users/jakek/Dropbox (MIT)/8.13/Optical_Trapping/calibration/calib_20181031_1um1000Knacl_250.1x.txt', delimiter='\\t', header=None)\n",
    "\n",
    "data.columns = 'x_strain y_strain x_volts y_volts'.split()\n",
    "print(data['x_strain'])"
   ]
  },
  {
   "cell_type": "code",
   "execution_count": 2,
   "metadata": {},
   "outputs": [
    {
     "name": "stdout",
     "output_type": "stream",
     "text": [
      "83579\n",
      "83579\n"
     ]
    },
    {
     "ename": "ValueError",
     "evalue": "bins must be monotonically increasing or decreasing",
     "output_type": "error",
     "traceback": [
      "\u001b[1;31m---------------------------------------------------------------------------\u001b[0m",
      "\u001b[1;31mValueError\u001b[0m                                Traceback (most recent call last)",
      "\u001b[1;32m<ipython-input-2-d040703e506e>\u001b[0m in \u001b[0;36m<module>\u001b[1;34m()\u001b[0m\n\u001b[0;32m     10\u001b[0m \u001b[0mnbins\u001b[0m\u001b[1;33m=\u001b[0m\u001b[1;36m3000\u001b[0m\u001b[1;33m\u001b[0m\u001b[0m\n\u001b[0;32m     11\u001b[0m \u001b[0mbins\u001b[0m \u001b[1;33m=\u001b[0m \u001b[0mnp\u001b[0m\u001b[1;33m.\u001b[0m\u001b[0mempty\u001b[0m\u001b[1;33m(\u001b[0m\u001b[0mnbins\u001b[0m\u001b[1;33m)\u001b[0m\u001b[1;33m\u001b[0m\u001b[0m\n\u001b[1;32m---> 12\u001b[1;33m \u001b[0mnp\u001b[0m\u001b[1;33m.\u001b[0m\u001b[0mdigitize\u001b[0m\u001b[1;33m(\u001b[0m\u001b[0mfit_region\u001b[0m\u001b[1;33m,\u001b[0m \u001b[0mbins\u001b[0m\u001b[1;33m)\u001b[0m\u001b[1;33m\u001b[0m\u001b[0m\n\u001b[0m",
      "\u001b[1;31mValueError\u001b[0m: bins must be monotonically increasing or decreasing"
     ]
    },
    {
     "data": {
      "image/png": "[encoded data removed]",
      "text/plain": [
       "<Figure size 432x288 with 1 Axes>"
      ]
     },
     "metadata": {},
     "output_type": "display_data"
    }
   ],
   "source": [
    "\n",
    "# linear portion of QPDx vs strainGaugeX\n",
    "fit_vals = data[np.abs(data['x_volts']-5.2)<0.6]['x_strain']\n",
    "fit_region = data[np.abs(data['x_volts']-5.2)<0.6]['x_volts']\n",
    "plt.scatter(fit_region, fit_vals, marker=',')\n",
    "\n",
    "print(len(fit_vals))\n",
    "print(len(fit_region))\n",
    "\n",
    "nbins=3000\n",
    "bins = np.empty(nbins)\n",
    "\n",
    "\n"
   ]
  },
  {
   "cell_type": "code",
   "execution_count": null,
   "metadata": {},
   "outputs": [],
   "source": [
    "from scipy import *\n",
    "from scipy.optimize import leastsq\n",
    "from scipy.special import gamma\n",
    "\n",
    "# fit a line to this\n",
    "# we will have p=[a, b] where line is ax+b\n",
    "def fitline(x, p):\n",
    "    pev = p[0]*x + p[1]\n",
    "    return pev\n",
    "\n",
    "def residuals(p, y, x, yerr):\n",
    "    err = (y-fitline(x,p))/yerr\n",
    "    return err\n",
    "\n",
    "def csprob(cs, df): # chi2 probability a function of chi2 and DOF\n",
    "    prob = (np.power(cs, df/2-1)*np.exp(-cs/2))/(np.power(2, df/2)*gamma(df/2))\n",
    "    return prob\n",
    "\n"
   ]
  }
 ],
 "metadata": {
  "kernelspec": {
   "display_name": "Python 3",
   "language": "python",
   "name": "python3"
  },
  "language_info": {
   "codemirror_mode": {
    "name": "ipython",
    "version": 3
   },
   "file_extension": ".py",
   "mimetype": "text/x-python",
   "name": "python",
   "nbconvert_exporter": "python",
   "pygments_lexer": "ipython3",
   "version": "3.5.6"
  }
 },
 "nbformat": 4,
 "nbformat_minor": 2
}
