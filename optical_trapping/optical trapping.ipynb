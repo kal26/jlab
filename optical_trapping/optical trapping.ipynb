{
 "cells": [
  {
   "cell_type": "code",
   "execution_count": 1,
   "metadata": {},
   "outputs": [],
   "source": [
    "import numpy as np\n",
    "import pandas as pd\n",
    "import scipy.stats\n",
    "from scipy.optimize import curve_fit"
   ]
  },
  {
   "cell_type": "code",
   "execution_count": null,
   "metadata": {},
   "outputs": [],
   "source": [
    "# set up a linear fit\n",
    "def linear(x, *p):\n",
    "    a, b = p\n",
    "    return a*x + b"
   ]
  },
  {
   "cell_type": "code",
   "execution_count": null,
   "metadata": {},
   "outputs": [],
   "source": [
    "# get the data for calibration\n",
    "# data tables have the following format:\n",
    "# first column [0] is stage x strain gauge voltage\n",
    "# second column [1] is stage y strain gauge voltage\n",
    "# third column [2] is QPD x voltage\n",
    "# fourth column [3] is QPD y voltage\n",
    "\n",
    "# calibration\n",
    "\n",
    "\n",
    "\n",
    "calib = pd.read_table( delimiter='\\t', header=None)\n",
    "calib.columns = 'x_strain y_strain x_volts y_volts'.split()\n",
    "\n",
    "conversions = pd.DataFrame()"
   ]
  },
  {
   "cell_type": "code",
   "execution_count": null,
   "metadata": {},
   "outputs": [],
   "source": [
    "# bin to get errors\n",
    "voltages= list()\n",
    "slopes=list()\n",
    "intercepts=list()\n",
    "\n",
    "# get specific dataset\n",
    "voltage = v\n",
    "strain_data = calib['x_strain']\n",
    "qpd_data = calib['x_volts']\n",
    "\n",
    "# set up the bin sizes\n",
    "bins = np.linspace(min(qpd_data), max(qpd_data), 1000)\n",
    "bin_means = bins + (min(qpd_data)-max(qpd_data))/2000\n",
    "\n",
    "# bin the data\n",
    "digitized = numpy.digitize(strain_data, bins)\n",
    "strain_means = [strain_data[digitized == i].mean() for i in range(1, len(bins))]\n",
    "strain_errors = [scipy.stats.sem(strain_data[digitized == i]) for i in range(1, len(bins))]\n",
    "\n",
    "# plot the origonal and binned\n",
    "plt.scatter(qpd_means, strain_means)\n",
    "plt.plot(bin_means, strain_means)\n",
    "\n",
    "# curve fit\n",
    "# p0 is the initial guess for the fitting coefficients\n",
    "p0 = [-10, 10]\n",
    "popt, pcov = curve_fit(linear, bin_means, strain_means, p0=p0, sigma=strain_errors)\n",
    "# plot the curve fit\n",
    "plt.plot(bin_means, linear(bin_means, popt))\n",
    "plt.show()\n",
    "\n",
    "# add to the lists of params\n",
    "voltages.append(voltage)\n",
    "slopes.append(popt[0])\n",
    "intercepts.append(popt[1])"
   ]
  }
 ],
 "metadata": {
  "kernelspec": {
   "display_name": "Python 3",
   "language": "python",
   "name": "python3"
  },
  "language_info": {
   "codemirror_mode": {
    "name": "ipython",
    "version": 3
   },
   "file_extension": ".py",
   "mimetype": "text/x-python",
   "name": "python",
   "nbconvert_exporter": "python",
   "pygments_lexer": "ipython3",
   "version": "3.5.6"
  }
 },
 "nbformat": 4,
 "nbformat_minor": 2
}
